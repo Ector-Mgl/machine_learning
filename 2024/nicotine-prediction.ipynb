{
 "cells": [
  {
   "cell_type": "code",
   "execution_count": 1,
   "id": "8d7dc428",
   "metadata": {
    "_cell_guid": "b1076dfc-b9ad-4769-8c92-a6c4dae69d19",
    "_uuid": "8f2839f25d086af736a60e9eeb907d3b93b6e0e5",
    "execution": {
     "iopub.execute_input": "2024-04-04T14:14:20.979115Z",
     "iopub.status.busy": "2024-04-04T14:14:20.978441Z",
     "iopub.status.idle": "2024-04-04T14:14:23.874138Z",
     "shell.execute_reply": "2024-04-04T14:14:23.872854Z"
    },
    "papermill": {
     "duration": 2.908588,
     "end_time": "2024-04-04T14:14:23.876569",
     "exception": false,
     "start_time": "2024-04-04T14:14:20.967981",
     "status": "completed"
    },
    "tags": []
   },
   "outputs": [
    {
     "name": "stdout",
     "output_type": "stream",
     "text": [
      "/kaggle/input/drug-consumption-classification/drug_consumption.csv\n"
     ]
    }
   ],
   "source": [
    "# This Python 3 environment comes with many helpful analytics libraries installed\n",
    "# It is defined by the kaggle/python Docker image: https://github.com/kaggle/docker-python\n",
    "# For example, here's several helpful packages to load\n",
    "\n",
    "import numpy as np # linear algebra\n",
    "import pandas as pd # data processing, CSV file I/O (e.g. pd.read_csv)\n",
    "from sklearn.model_selection import train_test_split\n",
    "from sklearn import linear_model\n",
    "from sklearn.metrics import accuracy_score\n",
    "# Input data files are available in the read-only \"../input/\" directory\n",
    "# For example, running this (by clicking run or pressing Shift+Enter) will list all files under the input directory\n",
    "\n",
    "import os\n",
    "for dirname, _, filenames in os.walk('/kaggle/input'):\n",
    "    for filename in filenames:\n",
    "        print(os.path.join(dirname, filename))\n",
    "        path = os.path.join(dirname, filename)\n",
    "\n",
    "# You can write up to 20GB to the current directory (/kaggle/working/) that gets preserved as output when you create a version using \"Save & Run All\" \n",
    "# You can also write temporary files to /kaggle/temp/, but they won't be saved outside of the current session"
   ]
  },
  {
   "cell_type": "code",
   "execution_count": 2,
   "id": "8f17308b",
   "metadata": {
    "execution": {
     "iopub.execute_input": "2024-04-04T14:14:23.895694Z",
     "iopub.status.busy": "2024-04-04T14:14:23.895123Z",
     "iopub.status.idle": "2024-04-04T14:14:23.973778Z",
     "shell.execute_reply": "2024-04-04T14:14:23.972954Z"
    },
    "papermill": {
     "duration": 0.090354,
     "end_time": "2024-04-04T14:14:23.975859",
     "exception": false,
     "start_time": "2024-04-04T14:14:23.885505",
     "status": "completed"
    },
    "tags": []
   },
   "outputs": [
    {
     "name": "stdout",
     "output_type": "stream",
     "text": [
      "Index(['ID', 'Age', 'Gender', 'Education', 'Country', 'Ethnicity', 'Nscore',\n",
      "       'Escore', 'Oscore', 'Ascore', 'Cscore', 'Impulsive', 'SS', 'Alcohol',\n",
      "       'Amphet', 'Amyl', 'Benzos', 'Caff', 'Cannabis', 'Choc', 'Coke', 'Crack',\n",
      "       'Ecstasy', 'Heroin', 'Ketamine', 'Legalh', 'LSD', 'Meth', 'Mushrooms',\n",
      "       'Nicotine', 'Semer', 'VSA'],\n",
      "      dtype='object')\n"
     ]
    },
    {
     "data": {
      "text/html": [
       "<div>\n",
       "<style scoped>\n",
       "    .dataframe tbody tr th:only-of-type {\n",
       "        vertical-align: middle;\n",
       "    }\n",
       "\n",
       "    .dataframe tbody tr th {\n",
       "        vertical-align: top;\n",
       "    }\n",
       "\n",
       "    .dataframe thead th {\n",
       "        text-align: right;\n",
       "    }\n",
       "</style>\n",
       "<table border=\"1\" class=\"dataframe\">\n",
       "  <thead>\n",
       "    <tr style=\"text-align: right;\">\n",
       "      <th></th>\n",
       "      <th>ID</th>\n",
       "      <th>Age</th>\n",
       "      <th>Gender</th>\n",
       "      <th>Education</th>\n",
       "      <th>Country</th>\n",
       "      <th>Ethnicity</th>\n",
       "      <th>Nscore</th>\n",
       "      <th>Escore</th>\n",
       "      <th>Oscore</th>\n",
       "      <th>Ascore</th>\n",
       "      <th>...</th>\n",
       "      <th>Ecstasy</th>\n",
       "      <th>Heroin</th>\n",
       "      <th>Ketamine</th>\n",
       "      <th>Legalh</th>\n",
       "      <th>LSD</th>\n",
       "      <th>Meth</th>\n",
       "      <th>Mushrooms</th>\n",
       "      <th>Nicotine</th>\n",
       "      <th>Semer</th>\n",
       "      <th>VSA</th>\n",
       "    </tr>\n",
       "  </thead>\n",
       "  <tbody>\n",
       "    <tr>\n",
       "      <th>0</th>\n",
       "      <td>1</td>\n",
       "      <td>0.49788</td>\n",
       "      <td>0.48246</td>\n",
       "      <td>-0.05921</td>\n",
       "      <td>0.96082</td>\n",
       "      <td>0.12600</td>\n",
       "      <td>0.31287</td>\n",
       "      <td>-0.57545</td>\n",
       "      <td>-0.58331</td>\n",
       "      <td>-0.91699</td>\n",
       "      <td>...</td>\n",
       "      <td>CL0</td>\n",
       "      <td>CL0</td>\n",
       "      <td>CL0</td>\n",
       "      <td>CL0</td>\n",
       "      <td>CL0</td>\n",
       "      <td>CL0</td>\n",
       "      <td>CL0</td>\n",
       "      <td>CL2</td>\n",
       "      <td>CL0</td>\n",
       "      <td>CL0</td>\n",
       "    </tr>\n",
       "    <tr>\n",
       "      <th>1</th>\n",
       "      <td>2</td>\n",
       "      <td>-0.07854</td>\n",
       "      <td>-0.48246</td>\n",
       "      <td>1.98437</td>\n",
       "      <td>0.96082</td>\n",
       "      <td>-0.31685</td>\n",
       "      <td>-0.67825</td>\n",
       "      <td>1.93886</td>\n",
       "      <td>1.43533</td>\n",
       "      <td>0.76096</td>\n",
       "      <td>...</td>\n",
       "      <td>CL4</td>\n",
       "      <td>CL0</td>\n",
       "      <td>CL2</td>\n",
       "      <td>CL0</td>\n",
       "      <td>CL2</td>\n",
       "      <td>CL3</td>\n",
       "      <td>CL0</td>\n",
       "      <td>CL4</td>\n",
       "      <td>CL0</td>\n",
       "      <td>CL0</td>\n",
       "    </tr>\n",
       "    <tr>\n",
       "      <th>2</th>\n",
       "      <td>3</td>\n",
       "      <td>0.49788</td>\n",
       "      <td>-0.48246</td>\n",
       "      <td>-0.05921</td>\n",
       "      <td>0.96082</td>\n",
       "      <td>-0.31685</td>\n",
       "      <td>-0.46725</td>\n",
       "      <td>0.80523</td>\n",
       "      <td>-0.84732</td>\n",
       "      <td>-1.62090</td>\n",
       "      <td>...</td>\n",
       "      <td>CL0</td>\n",
       "      <td>CL0</td>\n",
       "      <td>CL0</td>\n",
       "      <td>CL0</td>\n",
       "      <td>CL0</td>\n",
       "      <td>CL0</td>\n",
       "      <td>CL1</td>\n",
       "      <td>CL0</td>\n",
       "      <td>CL0</td>\n",
       "      <td>CL0</td>\n",
       "    </tr>\n",
       "    <tr>\n",
       "      <th>3</th>\n",
       "      <td>4</td>\n",
       "      <td>-0.95197</td>\n",
       "      <td>0.48246</td>\n",
       "      <td>1.16365</td>\n",
       "      <td>0.96082</td>\n",
       "      <td>-0.31685</td>\n",
       "      <td>-0.14882</td>\n",
       "      <td>-0.80615</td>\n",
       "      <td>-0.01928</td>\n",
       "      <td>0.59042</td>\n",
       "      <td>...</td>\n",
       "      <td>CL0</td>\n",
       "      <td>CL0</td>\n",
       "      <td>CL2</td>\n",
       "      <td>CL0</td>\n",
       "      <td>CL0</td>\n",
       "      <td>CL0</td>\n",
       "      <td>CL0</td>\n",
       "      <td>CL2</td>\n",
       "      <td>CL0</td>\n",
       "      <td>CL0</td>\n",
       "    </tr>\n",
       "    <tr>\n",
       "      <th>4</th>\n",
       "      <td>5</td>\n",
       "      <td>0.49788</td>\n",
       "      <td>0.48246</td>\n",
       "      <td>1.98437</td>\n",
       "      <td>0.96082</td>\n",
       "      <td>-0.31685</td>\n",
       "      <td>0.73545</td>\n",
       "      <td>-1.63340</td>\n",
       "      <td>-0.45174</td>\n",
       "      <td>-0.30172</td>\n",
       "      <td>...</td>\n",
       "      <td>CL1</td>\n",
       "      <td>CL0</td>\n",
       "      <td>CL0</td>\n",
       "      <td>CL1</td>\n",
       "      <td>CL0</td>\n",
       "      <td>CL0</td>\n",
       "      <td>CL2</td>\n",
       "      <td>CL2</td>\n",
       "      <td>CL0</td>\n",
       "      <td>CL0</td>\n",
       "    </tr>\n",
       "  </tbody>\n",
       "</table>\n",
       "<p>5 rows × 32 columns</p>\n",
       "</div>"
      ],
      "text/plain": [
       "   ID      Age   Gender  Education  Country  Ethnicity   Nscore   Escore  \\\n",
       "0   1  0.49788  0.48246   -0.05921  0.96082    0.12600  0.31287 -0.57545   \n",
       "1   2 -0.07854 -0.48246    1.98437  0.96082   -0.31685 -0.67825  1.93886   \n",
       "2   3  0.49788 -0.48246   -0.05921  0.96082   -0.31685 -0.46725  0.80523   \n",
       "3   4 -0.95197  0.48246    1.16365  0.96082   -0.31685 -0.14882 -0.80615   \n",
       "4   5  0.49788  0.48246    1.98437  0.96082   -0.31685  0.73545 -1.63340   \n",
       "\n",
       "    Oscore   Ascore  ...  Ecstasy  Heroin  Ketamine Legalh  LSD Meth  \\\n",
       "0 -0.58331 -0.91699  ...      CL0     CL0       CL0    CL0  CL0  CL0   \n",
       "1  1.43533  0.76096  ...      CL4     CL0       CL2    CL0  CL2  CL3   \n",
       "2 -0.84732 -1.62090  ...      CL0     CL0       CL0    CL0  CL0  CL0   \n",
       "3 -0.01928  0.59042  ...      CL0     CL0       CL2    CL0  CL0  CL0   \n",
       "4 -0.45174 -0.30172  ...      CL1     CL0       CL0    CL1  CL0  CL0   \n",
       "\n",
       "  Mushrooms Nicotine Semer  VSA  \n",
       "0       CL0      CL2   CL0  CL0  \n",
       "1       CL0      CL4   CL0  CL0  \n",
       "2       CL1      CL0   CL0  CL0  \n",
       "3       CL0      CL2   CL0  CL0  \n",
       "4       CL2      CL2   CL0  CL0  \n",
       "\n",
       "[5 rows x 32 columns]"
      ]
     },
     "execution_count": 2,
     "metadata": {},
     "output_type": "execute_result"
    }
   ],
   "source": [
    "data = pd.read_csv(path)\n",
    "print(data.columns)\n",
    "data.head()\n"
   ]
  },
  {
   "cell_type": "markdown",
   "id": "7ed6357f",
   "metadata": {
    "papermill": {
     "duration": 0.008201,
     "end_time": "2024-04-04T14:14:23.992611",
     "exception": false,
     "start_time": "2024-04-04T14:14:23.984410",
     "status": "completed"
    },
    "tags": []
   },
   "source": [
    "## **1- Testing with Multi-class model (LogisticRegression)**\n"
   ]
  },
  {
   "cell_type": "code",
   "execution_count": 3,
   "id": "951d15b9",
   "metadata": {
    "execution": {
     "iopub.execute_input": "2024-04-04T14:14:24.012567Z",
     "iopub.status.busy": "2024-04-04T14:14:24.011945Z",
     "iopub.status.idle": "2024-04-04T14:14:24.019273Z",
     "shell.execute_reply": "2024-04-04T14:14:24.018456Z"
    },
    "papermill": {
     "duration": 0.020319,
     "end_time": "2024-04-04T14:14:24.021573",
     "exception": false,
     "start_time": "2024-04-04T14:14:24.001254",
     "status": "completed"
    },
    "tags": []
   },
   "outputs": [],
   "source": [
    "from sklearn.preprocessing import LabelEncoder\n",
    "\n",
    "encode= LabelEncoder()\n",
    "data['Nicotine'] = encode.fit_transform(data['Nicotine'])"
   ]
  },
  {
   "cell_type": "code",
   "execution_count": 4,
   "id": "5d8619b9",
   "metadata": {
    "execution": {
     "iopub.execute_input": "2024-04-04T14:14:24.041458Z",
     "iopub.status.busy": "2024-04-04T14:14:24.041005Z",
     "iopub.status.idle": "2024-04-04T14:14:24.064059Z",
     "shell.execute_reply": "2024-04-04T14:14:24.062823Z"
    },
    "papermill": {
     "duration": 0.036376,
     "end_time": "2024-04-04T14:14:24.066601",
     "exception": false,
     "start_time": "2024-04-04T14:14:24.030225",
     "status": "completed"
    },
    "tags": []
   },
   "outputs": [
    {
     "data": {
      "text/plain": [
       "Nicotine\n",
       "0    428\n",
       "1    193\n",
       "2    204\n",
       "3    185\n",
       "4    108\n",
       "5    157\n",
       "6    610\n",
       "Name: count, dtype: int64"
      ]
     },
     "execution_count": 4,
     "metadata": {},
     "output_type": "execute_result"
    }
   ],
   "source": [
    "from sklearn.preprocessing import LabelEncoder\n",
    "\n",
    "encode= LabelEncoder()\n",
    "data['Nicotine'] = encode.fit_transform(data['Nicotine'])\n",
    "labels= ['Age', 'Gender', 'Education', 'Country', 'Ethnicity', 'Nscore',\n",
    "            'Escore', 'Oscore', 'Ascore', 'Cscore', 'Impulsive', 'SS']\n",
    "\n",
    "X = data[labels]\n",
    "y = data['Nicotine']\n",
    "\n",
    "y.value_counts().sort_index()"
   ]
  },
  {
   "cell_type": "code",
   "execution_count": 5,
   "id": "055b3d42",
   "metadata": {
    "execution": {
     "iopub.execute_input": "2024-04-04T14:14:24.086164Z",
     "iopub.status.busy": "2024-04-04T14:14:24.085788Z",
     "iopub.status.idle": "2024-04-04T14:14:24.091980Z",
     "shell.execute_reply": "2024-04-04T14:14:24.091213Z"
    },
    "papermill": {
     "duration": 0.018614,
     "end_time": "2024-04-04T14:14:24.094060",
     "exception": false,
     "start_time": "2024-04-04T14:14:24.075446",
     "status": "completed"
    },
    "tags": []
   },
   "outputs": [
    {
     "data": {
      "text/plain": [
       "0"
      ]
     },
     "execution_count": 5,
     "metadata": {},
     "output_type": "execute_result"
    }
   ],
   "source": [
    "y.isnull().sum()"
   ]
  },
  {
   "cell_type": "code",
   "execution_count": 6,
   "id": "039544e4",
   "metadata": {
    "execution": {
     "iopub.execute_input": "2024-04-04T14:14:24.114069Z",
     "iopub.status.busy": "2024-04-04T14:14:24.113434Z",
     "iopub.status.idle": "2024-04-04T14:14:24.121514Z",
     "shell.execute_reply": "2024-04-04T14:14:24.120488Z"
    },
    "papermill": {
     "duration": 0.020676,
     "end_time": "2024-04-04T14:14:24.123710",
     "exception": false,
     "start_time": "2024-04-04T14:14:24.103034",
     "status": "completed"
    },
    "tags": []
   },
   "outputs": [
    {
     "data": {
      "text/plain": [
       "Age          0\n",
       "Gender       0\n",
       "Education    0\n",
       "Country      0\n",
       "Ethnicity    0\n",
       "Nscore       0\n",
       "Escore       0\n",
       "Oscore       0\n",
       "Ascore       0\n",
       "Cscore       0\n",
       "Impulsive    0\n",
       "SS           0\n",
       "dtype: int64"
      ]
     },
     "execution_count": 6,
     "metadata": {},
     "output_type": "execute_result"
    }
   ],
   "source": [
    "X.isnull().sum()"
   ]
  },
  {
   "cell_type": "code",
   "execution_count": 7,
   "id": "f799c5cb",
   "metadata": {
    "execution": {
     "iopub.execute_input": "2024-04-04T14:14:24.144073Z",
     "iopub.status.busy": "2024-04-04T14:14:24.143259Z",
     "iopub.status.idle": "2024-04-04T14:14:24.162494Z",
     "shell.execute_reply": "2024-04-04T14:14:24.161670Z"
    },
    "papermill": {
     "duration": 0.031858,
     "end_time": "2024-04-04T14:14:24.164728",
     "exception": false,
     "start_time": "2024-04-04T14:14:24.132870",
     "status": "completed"
    },
    "tags": []
   },
   "outputs": [
    {
     "data": {
      "text/html": [
       "<div>\n",
       "<style scoped>\n",
       "    .dataframe tbody tr th:only-of-type {\n",
       "        vertical-align: middle;\n",
       "    }\n",
       "\n",
       "    .dataframe tbody tr th {\n",
       "        vertical-align: top;\n",
       "    }\n",
       "\n",
       "    .dataframe thead th {\n",
       "        text-align: right;\n",
       "    }\n",
       "</style>\n",
       "<table border=\"1\" class=\"dataframe\">\n",
       "  <thead>\n",
       "    <tr style=\"text-align: right;\">\n",
       "      <th></th>\n",
       "      <th>Age</th>\n",
       "      <th>Gender</th>\n",
       "      <th>Education</th>\n",
       "      <th>Country</th>\n",
       "      <th>Ethnicity</th>\n",
       "      <th>Nscore</th>\n",
       "      <th>Escore</th>\n",
       "      <th>Oscore</th>\n",
       "      <th>Ascore</th>\n",
       "      <th>Cscore</th>\n",
       "      <th>Impulsive</th>\n",
       "      <th>SS</th>\n",
       "    </tr>\n",
       "  </thead>\n",
       "  <tbody>\n",
       "    <tr>\n",
       "      <th>0</th>\n",
       "      <td>0.49788</td>\n",
       "      <td>0.48246</td>\n",
       "      <td>-0.05921</td>\n",
       "      <td>0.96082</td>\n",
       "      <td>0.12600</td>\n",
       "      <td>0.31287</td>\n",
       "      <td>-0.57545</td>\n",
       "      <td>-0.58331</td>\n",
       "      <td>-0.91699</td>\n",
       "      <td>-0.00665</td>\n",
       "      <td>-0.21712</td>\n",
       "      <td>-1.18084</td>\n",
       "    </tr>\n",
       "    <tr>\n",
       "      <th>1</th>\n",
       "      <td>-0.07854</td>\n",
       "      <td>-0.48246</td>\n",
       "      <td>1.98437</td>\n",
       "      <td>0.96082</td>\n",
       "      <td>-0.31685</td>\n",
       "      <td>-0.67825</td>\n",
       "      <td>1.93886</td>\n",
       "      <td>1.43533</td>\n",
       "      <td>0.76096</td>\n",
       "      <td>-0.14277</td>\n",
       "      <td>-0.71126</td>\n",
       "      <td>-0.21575</td>\n",
       "    </tr>\n",
       "    <tr>\n",
       "      <th>2</th>\n",
       "      <td>0.49788</td>\n",
       "      <td>-0.48246</td>\n",
       "      <td>-0.05921</td>\n",
       "      <td>0.96082</td>\n",
       "      <td>-0.31685</td>\n",
       "      <td>-0.46725</td>\n",
       "      <td>0.80523</td>\n",
       "      <td>-0.84732</td>\n",
       "      <td>-1.62090</td>\n",
       "      <td>-1.01450</td>\n",
       "      <td>-1.37983</td>\n",
       "      <td>0.40148</td>\n",
       "    </tr>\n",
       "    <tr>\n",
       "      <th>3</th>\n",
       "      <td>-0.95197</td>\n",
       "      <td>0.48246</td>\n",
       "      <td>1.16365</td>\n",
       "      <td>0.96082</td>\n",
       "      <td>-0.31685</td>\n",
       "      <td>-0.14882</td>\n",
       "      <td>-0.80615</td>\n",
       "      <td>-0.01928</td>\n",
       "      <td>0.59042</td>\n",
       "      <td>0.58489</td>\n",
       "      <td>-1.37983</td>\n",
       "      <td>-1.18084</td>\n",
       "    </tr>\n",
       "    <tr>\n",
       "      <th>4</th>\n",
       "      <td>0.49788</td>\n",
       "      <td>0.48246</td>\n",
       "      <td>1.98437</td>\n",
       "      <td>0.96082</td>\n",
       "      <td>-0.31685</td>\n",
       "      <td>0.73545</td>\n",
       "      <td>-1.63340</td>\n",
       "      <td>-0.45174</td>\n",
       "      <td>-0.30172</td>\n",
       "      <td>1.30612</td>\n",
       "      <td>-0.21712</td>\n",
       "      <td>-0.21575</td>\n",
       "    </tr>\n",
       "  </tbody>\n",
       "</table>\n",
       "</div>"
      ],
      "text/plain": [
       "       Age   Gender  Education  Country  Ethnicity   Nscore   Escore   Oscore  \\\n",
       "0  0.49788  0.48246   -0.05921  0.96082    0.12600  0.31287 -0.57545 -0.58331   \n",
       "1 -0.07854 -0.48246    1.98437  0.96082   -0.31685 -0.67825  1.93886  1.43533   \n",
       "2  0.49788 -0.48246   -0.05921  0.96082   -0.31685 -0.46725  0.80523 -0.84732   \n",
       "3 -0.95197  0.48246    1.16365  0.96082   -0.31685 -0.14882 -0.80615 -0.01928   \n",
       "4  0.49788  0.48246    1.98437  0.96082   -0.31685  0.73545 -1.63340 -0.45174   \n",
       "\n",
       "    Ascore   Cscore  Impulsive       SS  \n",
       "0 -0.91699 -0.00665   -0.21712 -1.18084  \n",
       "1  0.76096 -0.14277   -0.71126 -0.21575  \n",
       "2 -1.62090 -1.01450   -1.37983  0.40148  \n",
       "3  0.59042  0.58489   -1.37983 -1.18084  \n",
       "4 -0.30172  1.30612   -0.21712 -0.21575  "
      ]
     },
     "execution_count": 7,
     "metadata": {},
     "output_type": "execute_result"
    }
   ],
   "source": [
    "X.head()"
   ]
  },
  {
   "cell_type": "code",
   "execution_count": 8,
   "id": "10a19ff1",
   "metadata": {
    "execution": {
     "iopub.execute_input": "2024-04-04T14:14:24.186018Z",
     "iopub.status.busy": "2024-04-04T14:14:24.184955Z",
     "iopub.status.idle": "2024-04-04T14:14:24.197258Z",
     "shell.execute_reply": "2024-04-04T14:14:24.196146Z"
    },
    "papermill": {
     "duration": 0.025856,
     "end_time": "2024-04-04T14:14:24.200090",
     "exception": false,
     "start_time": "2024-04-04T14:14:24.174234",
     "status": "completed"
    },
    "tags": []
   },
   "outputs": [
    {
     "data": {
      "text/plain": [
       "(1508,)"
      ]
     },
     "execution_count": 8,
     "metadata": {},
     "output_type": "execute_result"
    }
   ],
   "source": [
    "X_train, X_test, y_train, y_test = train_test_split(X, y, test_size = 0.2)\n",
    "y_train.shape"
   ]
  },
  {
   "cell_type": "code",
   "execution_count": 9,
   "id": "b4e9eec0",
   "metadata": {
    "execution": {
     "iopub.execute_input": "2024-04-04T14:14:24.221533Z",
     "iopub.status.busy": "2024-04-04T14:14:24.221122Z",
     "iopub.status.idle": "2024-04-04T14:14:24.230284Z",
     "shell.execute_reply": "2024-04-04T14:14:24.229105Z"
    },
    "papermill": {
     "duration": 0.023263,
     "end_time": "2024-04-04T14:14:24.233394",
     "exception": false,
     "start_time": "2024-04-04T14:14:24.210131",
     "status": "completed"
    },
    "tags": []
   },
   "outputs": [
    {
     "data": {
      "text/plain": [
       "Nicotine\n",
       "0    334\n",
       "1    152\n",
       "2    170\n",
       "3    144\n",
       "4     92\n",
       "5    125\n",
       "6    491\n",
       "Name: count, dtype: int64"
      ]
     },
     "execution_count": 9,
     "metadata": {},
     "output_type": "execute_result"
    }
   ],
   "source": [
    "y_train.value_counts().sort_index()"
   ]
  },
  {
   "cell_type": "code",
   "execution_count": 10,
   "id": "a6aea14b",
   "metadata": {
    "execution": {
     "iopub.execute_input": "2024-04-04T14:14:24.254719Z",
     "iopub.status.busy": "2024-04-04T14:14:24.254283Z",
     "iopub.status.idle": "2024-04-04T14:14:24.299929Z",
     "shell.execute_reply": "2024-04-04T14:14:24.298922Z"
    },
    "papermill": {
     "duration": 0.059242,
     "end_time": "2024-04-04T14:14:24.302486",
     "exception": false,
     "start_time": "2024-04-04T14:14:24.243244",
     "status": "completed"
    },
    "tags": []
   },
   "outputs": [],
   "source": [
    "from sklearn.linear_model import LogisticRegression\n",
    "model = LogisticRegression(random_state=0, solver='sag').fit(X_train, y_train)"
   ]
  },
  {
   "cell_type": "code",
   "execution_count": 11,
   "id": "b0e13852",
   "metadata": {
    "execution": {
     "iopub.execute_input": "2024-04-04T14:14:24.325567Z",
     "iopub.status.busy": "2024-04-04T14:14:24.324279Z",
     "iopub.status.idle": "2024-04-04T14:14:24.339452Z",
     "shell.execute_reply": "2024-04-04T14:14:24.338258Z"
    },
    "papermill": {
     "duration": 0.028559,
     "end_time": "2024-04-04T14:14:24.341915",
     "exception": false,
     "start_time": "2024-04-04T14:14:24.313356",
     "status": "completed"
    },
    "tags": []
   },
   "outputs": [
    {
     "name": "stdout",
     "output_type": "stream",
     "text": [
      "Accuracy: 0.3925729442970822\n"
     ]
    }
   ],
   "source": [
    "#y_pred= model.predict(X_test)\n",
    "predictions = model.predict(X_test)\n",
    "\n",
    "# Avaliar o desempenho do modelo\n",
    "accuracy = accuracy_score(y_test, predictions)\n",
    "print(f'Accuracy: {accuracy}')"
   ]
  },
  {
   "cell_type": "markdown",
   "id": "2e847eac",
   "metadata": {
    "papermill": {
     "duration": 0.009452,
     "end_time": "2024-04-04T14:14:24.361210",
     "exception": false,
     "start_time": "2024-04-04T14:14:24.351758",
     "status": "completed"
    },
    "tags": []
   },
   "source": [
    "## **2- Testing with OneHotEncoder**"
   ]
  },
  {
   "cell_type": "code",
   "execution_count": 12,
   "id": "bcf608ba",
   "metadata": {
    "execution": {
     "iopub.execute_input": "2024-04-04T14:14:24.383497Z",
     "iopub.status.busy": "2024-04-04T14:14:24.382253Z",
     "iopub.status.idle": "2024-04-04T14:14:24.406831Z",
     "shell.execute_reply": "2024-04-04T14:14:24.405614Z"
    },
    "papermill": {
     "duration": 0.038702,
     "end_time": "2024-04-04T14:14:24.409791",
     "exception": false,
     "start_time": "2024-04-04T14:14:24.371089",
     "status": "completed"
    },
    "tags": []
   },
   "outputs": [],
   "source": [
    "data_for_one= pd.read_csv(path)\n",
    "\n",
    "encode= LabelEncoder()\n",
    "data_for_one['Nicotine'] = encode.fit_transform(data_for_one['Nicotine'])"
   ]
  },
  {
   "cell_type": "code",
   "execution_count": 13,
   "id": "ca1b355c",
   "metadata": {
    "execution": {
     "iopub.execute_input": "2024-04-04T14:14:24.432579Z",
     "iopub.status.busy": "2024-04-04T14:14:24.431836Z",
     "iopub.status.idle": "2024-04-04T14:14:24.441348Z",
     "shell.execute_reply": "2024-04-04T14:14:24.439655Z"
    },
    "papermill": {
     "duration": 0.023452,
     "end_time": "2024-04-04T14:14:24.443728",
     "exception": false,
     "start_time": "2024-04-04T14:14:24.420276",
     "status": "completed"
    },
    "tags": []
   },
   "outputs": [
    {
     "data": {
      "text/plain": [
       "Nicotine\n",
       "0    428\n",
       "1    193\n",
       "2    204\n",
       "3    185\n",
       "4    108\n",
       "5    157\n",
       "6    610\n",
       "Name: count, dtype: int64"
      ]
     },
     "execution_count": 13,
     "metadata": {},
     "output_type": "execute_result"
    }
   ],
   "source": [
    "data_for_one['Nicotine'].value_counts().sort_index()"
   ]
  },
  {
   "cell_type": "code",
   "execution_count": 14,
   "id": "4634779a",
   "metadata": {
    "execution": {
     "iopub.execute_input": "2024-04-04T14:14:24.465731Z",
     "iopub.status.busy": "2024-04-04T14:14:24.465265Z",
     "iopub.status.idle": "2024-04-04T14:14:24.473093Z",
     "shell.execute_reply": "2024-04-04T14:14:24.471909Z"
    },
    "papermill": {
     "duration": 0.021584,
     "end_time": "2024-04-04T14:14:24.475513",
     "exception": false,
     "start_time": "2024-04-04T14:14:24.453929",
     "status": "completed"
    },
    "tags": []
   },
   "outputs": [],
   "source": [
    "def replace_onehot(val):\n",
    "    if val <= 2:\n",
    "        return 0\n",
    "    else:\n",
    "        return 1\n",
    "data_for_one['Nicotine'] = data_for_one['Nicotine'].apply(replace_onehot)\n",
    "\n"
   ]
  },
  {
   "cell_type": "code",
   "execution_count": 15,
   "id": "b7eb4ab5",
   "metadata": {
    "execution": {
     "iopub.execute_input": "2024-04-04T14:14:24.498647Z",
     "iopub.status.busy": "2024-04-04T14:14:24.497491Z",
     "iopub.status.idle": "2024-04-04T14:14:24.505835Z",
     "shell.execute_reply": "2024-04-04T14:14:24.504400Z"
    },
    "papermill": {
     "duration": 0.022187,
     "end_time": "2024-04-04T14:14:24.508150",
     "exception": false,
     "start_time": "2024-04-04T14:14:24.485963",
     "status": "completed"
    },
    "tags": []
   },
   "outputs": [
    {
     "name": "stdout",
     "output_type": "stream",
     "text": [
      "Nicotine\n",
      "0     825\n",
      "1    1060\n",
      "Name: count, dtype: int64\n"
     ]
    }
   ],
   "source": [
    "print(data_for_one['Nicotine'].value_counts().sort_index())"
   ]
  },
  {
   "cell_type": "code",
   "execution_count": 16,
   "id": "68997e4e",
   "metadata": {
    "execution": {
     "iopub.execute_input": "2024-04-04T14:14:24.530704Z",
     "iopub.status.busy": "2024-04-04T14:14:24.530055Z",
     "iopub.status.idle": "2024-04-04T14:14:24.537390Z",
     "shell.execute_reply": "2024-04-04T14:14:24.536301Z"
    },
    "papermill": {
     "duration": 0.021421,
     "end_time": "2024-04-04T14:14:24.540012",
     "exception": false,
     "start_time": "2024-04-04T14:14:24.518591",
     "status": "completed"
    },
    "tags": []
   },
   "outputs": [],
   "source": [
    "X_one = data_for_one[labels]\n",
    "y_one = data_for_one['Nicotine']\n",
    "X_one, X_TEone, y_one, y_TEone = train_test_split(X_one, y_one, test_size = 0.2)"
   ]
  },
  {
   "cell_type": "code",
   "execution_count": 17,
   "id": "3aa06143",
   "metadata": {
    "execution": {
     "iopub.execute_input": "2024-04-04T14:14:24.562544Z",
     "iopub.status.busy": "2024-04-04T14:14:24.562119Z",
     "iopub.status.idle": "2024-04-04T14:14:24.570653Z",
     "shell.execute_reply": "2024-04-04T14:14:24.569511Z"
    },
    "papermill": {
     "duration": 0.022572,
     "end_time": "2024-04-04T14:14:24.572865",
     "exception": false,
     "start_time": "2024-04-04T14:14:24.550293",
     "status": "completed"
    },
    "tags": []
   },
   "outputs": [
    {
     "data": {
      "text/plain": [
       "Nicotine\n",
       "0    663\n",
       "1    845\n",
       "Name: count, dtype: int64"
      ]
     },
     "execution_count": 17,
     "metadata": {},
     "output_type": "execute_result"
    }
   ],
   "source": [
    "y_one.value_counts().sort_index()"
   ]
  },
  {
   "cell_type": "code",
   "execution_count": 18,
   "id": "9817535c",
   "metadata": {
    "execution": {
     "iopub.execute_input": "2024-04-04T14:14:24.597255Z",
     "iopub.status.busy": "2024-04-04T14:14:24.596276Z",
     "iopub.status.idle": "2024-04-04T14:14:24.621781Z",
     "shell.execute_reply": "2024-04-04T14:14:24.620396Z"
    },
    "papermill": {
     "duration": 0.039587,
     "end_time": "2024-04-04T14:14:24.624106",
     "exception": false,
     "start_time": "2024-04-04T14:14:24.584519",
     "status": "completed"
    },
    "tags": []
   },
   "outputs": [
    {
     "name": "stdout",
     "output_type": "stream",
     "text": [
      "Accuracy: 0.7108753315649867\n"
     ]
    }
   ],
   "source": [
    "model_one = LogisticRegression(random_state=0, solver='sag')\n",
    "model_one= model_one.fit(X_one, y_one)\n",
    "predictions_one= model_one.predict(X_TEone)\n",
    "\n",
    "# Avaliar o desempenho do modelo\n",
    "accuracy_2 = accuracy_score(y_TEone, predictions_one)\n",
    "print(f'Accuracy: {accuracy_2}')"
   ]
  },
  {
   "cell_type": "markdown",
   "id": "95b48809",
   "metadata": {
    "papermill": {
     "duration": 0.010051,
     "end_time": "2024-04-04T14:14:24.644567",
     "exception": false,
     "start_time": "2024-04-04T14:14:24.634516",
     "status": "completed"
    },
    "tags": []
   },
   "source": [
    "## **3- Testing with RandomFlorest**"
   ]
  },
  {
   "cell_type": "code",
   "execution_count": 19,
   "id": "d3b023c2",
   "metadata": {
    "execution": {
     "iopub.execute_input": "2024-04-04T14:14:24.668023Z",
     "iopub.status.busy": "2024-04-04T14:14:24.667615Z",
     "iopub.status.idle": "2024-04-04T14:14:24.695176Z",
     "shell.execute_reply": "2024-04-04T14:14:24.693851Z"
    },
    "papermill": {
     "duration": 0.042372,
     "end_time": "2024-04-04T14:14:24.697939",
     "exception": false,
     "start_time": "2024-04-04T14:14:24.655567",
     "status": "completed"
    },
    "tags": []
   },
   "outputs": [],
   "source": [
    "data_for_flo= pd.read_csv(path)\n",
    "\n",
    "encode= LabelEncoder()\n",
    "data_for_flo['Nicotine'] = encode.fit_transform(data_for_flo['Nicotine'])\n",
    "data_for_flo['Nicotine'] = data_for_flo['Nicotine'].apply(replace_onehot)\n",
    "\n",
    "X_data_flo = data_for_flo[labels]\n",
    "y_data_flo = data_for_flo['Nicotine']\n",
    "\n",
    "X_flo, X_TEflo, y_flo, y_TEflo = train_test_split(X_data_flo, y_data_flo, test_size = 0.2)"
   ]
  },
  {
   "cell_type": "code",
   "execution_count": 20,
   "id": "8a17bb3e",
   "metadata": {
    "execution": {
     "iopub.execute_input": "2024-04-04T14:14:24.720720Z",
     "iopub.status.busy": "2024-04-04T14:14:24.720305Z",
     "iopub.status.idle": "2024-04-04T14:14:24.729468Z",
     "shell.execute_reply": "2024-04-04T14:14:24.728285Z"
    },
    "papermill": {
     "duration": 0.023517,
     "end_time": "2024-04-04T14:14:24.731804",
     "exception": false,
     "start_time": "2024-04-04T14:14:24.708287",
     "status": "completed"
    },
    "tags": []
   },
   "outputs": [
    {
     "data": {
      "text/plain": [
       "Nicotine\n",
       "0    653\n",
       "1    855\n",
       "Name: count, dtype: int64"
      ]
     },
     "execution_count": 20,
     "metadata": {},
     "output_type": "execute_result"
    }
   ],
   "source": [
    "y_flo.value_counts().sort_index()"
   ]
  },
  {
   "cell_type": "code",
   "execution_count": 21,
   "id": "ecb32d06",
   "metadata": {
    "execution": {
     "iopub.execute_input": "2024-04-04T14:14:24.754771Z",
     "iopub.status.busy": "2024-04-04T14:14:24.754382Z",
     "iopub.status.idle": "2024-04-04T14:14:25.471816Z",
     "shell.execute_reply": "2024-04-04T14:14:25.470486Z"
    },
    "papermill": {
     "duration": 0.731601,
     "end_time": "2024-04-04T14:14:25.474017",
     "exception": false,
     "start_time": "2024-04-04T14:14:24.742416",
     "status": "completed"
    },
    "tags": []
   },
   "outputs": [
    {
     "name": "stdout",
     "output_type": "stream",
     "text": [
      "Accuracy: 0.7427055702917772\n"
     ]
    }
   ],
   "source": [
    "from sklearn.ensemble import RandomForestClassifier\n",
    "model_3 = RandomForestClassifier()\n",
    "model_3.fit(X_flo, y_flo)\n",
    "y_pred_3 = model_3.predict(X_TEflo)\n",
    "\n",
    "accuracy_3 = accuracy_score(y_TEflo, y_pred_3)\n",
    "print(f'Accuracy: {accuracy_3}')"
   ]
  }
 ],
 "metadata": {
  "kaggle": {
   "accelerator": "none",
   "dataSources": [
    {
     "datasetId": 4687485,
     "sourceId": 7966947,
     "sourceType": "datasetVersion"
    }
   ],
   "dockerImageVersionId": 30673,
   "isGpuEnabled": false,
   "isInternetEnabled": false,
   "language": "python",
   "sourceType": "notebook"
  },
  "kernelspec": {
   "display_name": "Python 3",
   "language": "python",
   "name": "python3"
  },
  "language_info": {
   "codemirror_mode": {
    "name": "ipython",
    "version": 3
   },
   "file_extension": ".py",
   "mimetype": "text/x-python",
   "name": "python",
   "nbconvert_exporter": "python",
   "pygments_lexer": "ipython3",
   "version": "3.10.13"
  },
  "papermill": {
   "default_parameters": {},
   "duration": 8.483263,
   "end_time": "2024-04-04T14:14:26.107205",
   "environment_variables": {},
   "exception": null,
   "input_path": "__notebook__.ipynb",
   "output_path": "__notebook__.ipynb",
   "parameters": {},
   "start_time": "2024-04-04T14:14:17.623942",
   "version": "2.5.0"
  }
 },
 "nbformat": 4,
 "nbformat_minor": 5
}
