{
  "nbformat": 4,
  "nbformat_minor": 0,
  "metadata": {
    "colab": {
      "provenance": []
    },
    "kernelspec": {
      "name": "python3",
      "display_name": "Python 3"
    },
    "language_info": {
      "name": "python"
    }
  },
  "cells": [
    {
      "cell_type": "markdown",
      "source": [
        "## Welcome to my basic Classification algorithm\n",
        "Here you can train a simple model to classify hand-writen photos\n",
        "resuming: The algorithm will predict which image is hand-writen at the photos\n",
        "\n",
        "**By:Ector Magalhães**\n",
        "\n",
        "\n",
        "\n",
        "\n"
      ],
      "metadata": {
        "id": "UBdRSkPR8Edo"
      }
    },
    {
      "cell_type": "code",
      "execution_count": 2,
      "metadata": {
        "id": "o419KEiuSggS"
      },
      "outputs": [],
      "source": [
        "#importing the libraries that we will use\n",
        "import tensorflow as tf      #machine learning\n",
        "import matplotlib.pyplot as plt    #plotting/loading images\n",
        "import numpy as np  #linear algebra"
      ]
    },
    {
      "cell_type": "markdown",
      "source": [
        "##↪ **Below, we initialize loading the MNIST dataset**"
      ],
      "metadata": {
        "id": "C69fJ6_t9EFn"
      }
    },
    {
      "cell_type": "code",
      "source": [
        "mnista = tf.keras.datasets.mnist\n",
        "(X_test, Y_test), (x_cv, y_cv)=mnista.load_data()"
      ],
      "metadata": {
        "id": "tMSRW8p3S0VH"
      },
      "execution_count": 4,
      "outputs": []
    },
    {
      "cell_type": "code",
      "source": [
        "X_test.shape"
      ],
      "metadata": {
        "colab": {
          "base_uri": "https://localhost:8080/"
        },
        "id": "VERme1X29OLN",
        "outputId": "c130d61e-20fd-413e-9458-4e733b2b35b7"
      },
      "execution_count": 37,
      "outputs": [
        {
          "output_type": "execute_result",
          "data": {
            "text/plain": [
              "(60000, 28, 28)"
            ]
          },
          "metadata": {},
          "execution_count": 37
        }
      ]
    },
    {
      "cell_type": "markdown",
      "source": [
        "↪   You should get this result:\n",
        "\n",
        "![imagem_2023-08-25_153006267.png](data:image/png;base64,iVBORw0KGgoAAAANSUhEUgAAALcAAAAhCAIAAAAUM62WAAAFL0lEQVR4nO2bMUjzTBjHr99koAjWxeIQUouCFQcHG4NCB3ETFFGpi1YpTlUHXVwdbLFgUbdSiouxRScXEYWCUBKVIq0KmjSiotUhLQRpBEG/4XhDUF+T1lp94X5b/+bunrv87y7PJRqy2SwoFxiGla0tRAkxvL6+/nQMiN/Ofz8dAOIfALkEoQ1yCUIb5BKENsglCG2QSxDaIJcgtEEuQWiDXILQ5le4hOf50dHRcr4r+Ifw+Xwsy/5wEK/6GB4eHvyIu7s7nTX8DVEUe3p6GIZRlHw+Pzk5SRAEQRCKHolEoDI5OZnP56Ho9Xqh6PV6leL6RZ1wHNfe3k4QRHt7O8dxUGQYhvhDEXUqxXt6ekRRfNNrdUOiKLpcLuXnj6B3LTk8PDQajaQKgiAODg6enp6+aNNgMOh0Ou12O/yZzWaHhoYoihIEQRAEqLMsG4/HT09PBUGgKGppaQkAEI1GAQDwMuWnflEnsiyvrq6Gw2FBEDwez8rKiizL2WyWpumjoyNBEE5PTx8fH3me11+nujhJksFgEACwtbWl9Nrv929ubsKLTSbT+Pg4bFd/E6WlgB2ns7NzSoXb7W5tba2oqPhK8zzPn5+fd3Z2KgrHcSRJDgwMKIosyzRNO51ODMNkWY7H4wzDpNPp7e3tvr4+AEA2m2UYJh6P397e6hT1jziGYXNzc1arFQDQ0tIiSZIsy/DlNry7yWTy5OTEZDLp77XJZAoEArCIw+HIZDKyLOM4vry8zPM87C9BEMr1zc3NsCH9TZQWvS4xGAxvFIvFsr6+bjabk8nkzc1Ncc2LotjQ0KAe4lgsZjQae3t7LRZLR0cHHDVJkqqrq+Ey09XVVVVVdXV1BQAwmUw8z4+NjbndbkmS7u/vdYrFzctEIgGjxTAsEAjAQaBpem1trSCXqInFYhRFYRhmt9vD4bDL5bLZbE6nUz1PMAyjKCoWixXXxNcpwdPr8/Nzf3//2dlZEWWvrq7Ukwayu7sbCoXgwqustBcXF2NjYwsLCyRJKlcyDDMzMxMKherr64sQC4JlWZqm3W43AECW5ampKQCAIAhms3loaKi4R+9oNJrJZLq7u2H9LpcrHA7v7OxMT0+/2RZxHC8u7JLwJZdsbGwEAoH9/X2bzTY4OJhKpUoSk9PphFOzurpakiQAQGVlZTAYDIVCVqsV3g8cx3O53M7ODpzHoihWVlbW1NToFAv9HoplWa/XGwqFYGC3t7eSJEHHTExM4DjOcVyh3YxGo/F4fH5+HgYTi8U8Ho/VarVarX6/v6Bt8bspWSZsMBheXl4KLYXj+OXlpVpxOBzKAMEVvra2lqIokiThHdrc3GxoaKirqyNJEq7VcCOnKKq2tlanCG8My7IWi0XzYTYajaotAsnlctCvsizD7U+52GKxaOauPp9PbRGIMhTqChXl/aJbPnTmQjabjabpD/+USCTsdnsqlSoixeI4zuVywVRQQclaP0961aljJBIpVHz9k+J+nsfCRJ1QAWtQZ8LqOqGuVj7sNUytFRiGUQeppMfq+NWHBWWmBC45Pj6+vr4uOgKv1/v5mH4fcPRL2/r745+vwzCMesKUH70uaWxsfOOSdDr9Tadq5QEe05XWInDBK21ffsOpmt6vo202W1tbW1NTk6I8PDxEIpG9vb2v75c8z6+urs7OzqKP7N/j8/kcDody6vgj6HXJyMjIh8esi4uLZrO51FEhfhfoPy0Q2vyKd8KIXw5yCUIb5BKENsglCG2QSxDaIJcgtEEuQWiDXILQ5n9wTQn1Ox3ZowAAAABJRU5ErkJggg==)\n",
        "\n",
        "\n",
        "↪   **That means you have 60.000 photos that have 28x28 pixels each**"
      ],
      "metadata": {
        "id": "51XhEeIZ9VMk"
      }
    },
    {
      "cell_type": "markdown",
      "source": [
        "##↪Dividing by 255\n",
        "Images usually receive numbers to 0 for 255. The **first** means RED, the **second** means GREEN and the **third** means BLUE.\n",
        "That configures the RGB model\n",
        "Dividing by 255, you can reduce the range to 0 and 1. This helps to reduce problems regarding the difference in data scale.\n",
        "\n",
        "\n"
      ],
      "metadata": {
        "id": "UwzArKb67haB"
      }
    },
    {
      "cell_type": "code",
      "source": [
        "\n",
        "X_test= X_test /255.0\n",
        "x_cv= x_cv / 255.0\n",
        "labels=['0', '1', '3', '4', '5', '6', '7', '8', '9']"
      ],
      "metadata": {
        "id": "KkMFPTWyTghU"
      },
      "execution_count": 34,
      "outputs": []
    },
    {
      "cell_type": "markdown",
      "source": [
        "#↪ Here we call and import the classes for train our model\n",
        "Here are our Neural network, with 3 layers.\n",
        "ps: the layer **Flatten** is to convert the 2D array to 1D array. It's like you are doing a **np.reshape()**"
      ],
      "metadata": {
        "id": "DSQ3jYPV74gT"
      }
    },
    {
      "cell_type": "code",
      "source": [
        "from tensorflow.keras.layers import Dense\n",
        "from tensorflow.keras.layers import Flatten\n",
        "from tensorflow.keras import Sequential\n",
        "model= Sequential([\n",
        "    Flatten(input_shape=(28, 28)),\n",
        "    Dense(128, activation= 'relu'),\n",
        "    Dense(10, activation='softmax')\n",
        "])"
      ],
      "metadata": {
        "id": "Gl4mnFjlogto"
      },
      "execution_count": 35,
      "outputs": []
    },
    {
      "cell_type": "markdown",
      "source": [
        "##  ↪  Training our model\n",
        "There you have compiler that are using the **[Adam optimizer](https://www.tensorflow.org/api_docs/python/tf/keras/optimizers/Adam)**, [sparse categorical entropy](https://www.tensorflow.org/api_docs/python/tf/keras/losses/SparseCategoricalCrossentropy) and the metric **Accuracy**\n"
      ],
      "metadata": {
        "id": "oyKyz__KA5gV"
      }
    },
    {
      "cell_type": "code",
      "source": [
        "model.compile(optimizer='adam', loss='sparse_categorical_crossentropy', metrics=['accuracy'])\n",
        "model.fit(X_test, Y_test, epochs=10)"
      ],
      "metadata": {
        "id": "AbA-8deeeBVS",
        "colab": {
          "base_uri": "https://localhost:8080/"
        },
        "outputId": "7fad0639-03f1-466d-e35a-4e32ad498563"
      },
      "execution_count": 38,
      "outputs": [
        {
          "output_type": "stream",
          "name": "stdout",
          "text": [
            "Epoch 1/10\n",
            "1875/1875 [==============================] - 12s 6ms/step - loss: 0.6333 - accuracy: 0.8400\n",
            "Epoch 2/10\n",
            "1875/1875 [==============================] - 11s 6ms/step - loss: 0.4211 - accuracy: 0.8864\n",
            "Epoch 3/10\n",
            "1875/1875 [==============================] - 10s 5ms/step - loss: 0.3583 - accuracy: 0.9000\n",
            "Epoch 4/10\n",
            "1875/1875 [==============================] - 11s 6ms/step - loss: 0.3275 - accuracy: 0.9074\n",
            "Epoch 5/10\n",
            "1875/1875 [==============================] - 14s 7ms/step - loss: 0.3085 - accuracy: 0.9114\n",
            "Epoch 6/10\n",
            "1875/1875 [==============================] - 10s 5ms/step - loss: 0.2944 - accuracy: 0.9160\n",
            "Epoch 7/10\n",
            "1875/1875 [==============================] - 12s 7ms/step - loss: 0.2831 - accuracy: 0.9186\n",
            "Epoch 8/10\n",
            "1875/1875 [==============================] - 13s 7ms/step - loss: 0.2728 - accuracy: 0.9215\n",
            "Epoch 9/10\n",
            "1875/1875 [==============================] - 12s 7ms/step - loss: 0.2635 - accuracy: 0.9243\n",
            "Epoch 10/10\n",
            "1875/1875 [==============================] - 12s 7ms/step - loss: 0.2544 - accuracy: 0.9267\n"
          ]
        },
        {
          "output_type": "execute_result",
          "data": {
            "text/plain": [
              "<keras.callbacks.History at 0x78eb7eccb880>"
            ]
          },
          "metadata": {},
          "execution_count": 38
        }
      ]
    },
    {
      "cell_type": "markdown",
      "source": [
        " ↪.fit is your final code to finally train the model, so you can put, as parameters, your train set (X_test, Y_test)"
      ],
      "metadata": {
        "id": "LFMzPFkWB0vL"
      }
    },
    {
      "cell_type": "markdown",
      "source": [
        "## ↪After completed, we can **evaluate our model** a very important step that show us how well our model is going\n",
        "That happens putting our \"second\" dataset to train (x_cv, y_xv)\n",
        "if the accuracy is less than the acctual accuracy (from X_test) then we are having an **Overfitting** problem\n",
        "if we have a very low accuracy, we are having an **underfitting**."
      ],
      "metadata": {
        "id": "SI9LVjTcCIji"
      }
    },
    {
      "cell_type": "code",
      "source": [
        "loss, acc = model.evaluate(x_cv, y_cv, verbose=2)\n",
        "acc= acc * 100\n",
        "acc= str(acc)\n",
        "\n",
        "prediction= model.predict(x_cv)\n",
        "print(f'A acurácia deste modelo é de {acc[:4]}%')"
      ],
      "metadata": {
        "colab": {
          "base_uri": "https://localhost:8080/"
        },
        "id": "AvtbJ83ErKEf",
        "outputId": "d4c2dc57-0736-4851-f18a-11cb87a9070f"
      },
      "execution_count": 39,
      "outputs": [
        {
          "output_type": "stream",
          "name": "stdout",
          "text": [
            "313/313 - 1s - loss: 0.2479 - accuracy: 0.9285 - 680ms/epoch - 2ms/step\n",
            "313/313 [==============================] - 1s 2ms/step\n",
            "A acurácia deste modelo é de 92.8%\n"
          ]
        }
      ]
    },
    {
      "cell_type": "code",
      "source": [
        "prediction.shape"
      ],
      "metadata": {
        "id": "nY-DaQowrUq3",
        "colab": {
          "base_uri": "https://localhost:8080/"
        },
        "outputId": "964f35ce-43b9-46ad-8b8b-21014e668ed0"
      },
      "execution_count": 40,
      "outputs": [
        {
          "output_type": "execute_result",
          "data": {
            "text/plain": [
              "(10000, 10)"
            ]
          },
          "metadata": {},
          "execution_count": 40
        }
      ]
    },
    {
      "cell_type": "markdown",
      "source": [
        "↪ The code above show us the shape at prediction.\n",
        "After executed, the code **.prediction** generates us an array with 10 numbers that have a **probability** of each of our number.\n",
        "\n",
        "↪Example: propability of being 0 [2.034] **This have a low probability**\n",
        "probabilit of being 6 [9.341]. **This have a high probability, so, this number should be 6**"
      ],
      "metadata": {
        "id": "do9fqHizDMfI"
      }
    },
    {
      "cell_type": "markdown",
      "source": [
        "## ↪Here you can edit to verify if the model is going well"
      ],
      "metadata": {
        "id": "sd9eA8JmEduX"
      }
    },
    {
      "cell_type": "code",
      "source": [
        "number_of_data= 0            #here you can set a number from 0 to 10.000 (range of images)\n",
        "pos= np.argmax(prediction[number_of_data])   #Here we get the high probability of the array\n",
        "\n",
        "plt.axis('off')\n",
        "plt.title(f'The predict is: {pos}')\n",
        "plt.imshow(x_cv[number_of_data])"
      ],
      "metadata": {
        "id": "MiI05orNsmCR",
        "colab": {
          "base_uri": "https://localhost:8080/",
          "height": 447
        },
        "outputId": "c9c0f49d-2eb9-4d9c-e1f8-e5f1d8555643"
      },
      "execution_count": 41,
      "outputs": [
        {
          "output_type": "execute_result",
          "data": {
            "text/plain": [
              "<matplotlib.image.AxesImage at 0x78ebae097f70>"
            ]
          },
          "metadata": {},
          "execution_count": 41
        },
        {
          "output_type": "display_data",
          "data": {
            "text/plain": [
              "<Figure size 640x480 with 1 Axes>"
            ],
            "image/png": "[encoded data removed]"
          },
          "metadata": {}
        }
      ]
    },
    {
      "cell_type": "markdown",
      "source": [
        "### Thank for being here with me!\n",
        "By: Ector Magalhães\n",
        "\n",
        "\n",
        "**[Linkedin](https://www.linkedin.com/in/ectormgl/)**\n",
        "\n",
        "**[Github](https://github.com/Ector-Mgl)**"
      ],
      "metadata": {
        "id": "Xz8i7iNHFMSg"
      }
    }
  ]
}
